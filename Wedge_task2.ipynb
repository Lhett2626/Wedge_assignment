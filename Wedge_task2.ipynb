{
 "cells": [
  {
   "cell_type": "code",
   "execution_count": 1,
   "metadata": {},
   "outputs": [],
   "source": [
    "from google.cloud import bigquery\n",
    "from google.oauth2 import service_account\n",
    "from pandas.io import gbq\n",
    "import pandas_gbq"
   ]
  },
  {
   "cell_type": "code",
   "execution_count": 2,
   "metadata": {},
   "outputs": [],
   "source": [
    "# These first two values will be different on your machine. \n",
    "service_path = \"/Users/liamhettinger/Documents/Fall_MSBA/Applied_Data_Analytics/wedge/\"\n",
    "service_file = 'fleet-geode-327423-3bd2c958746e.json' # change this to your authentication information  \n",
    "gbq_proj_id = 'fleet-geode-327423' # change this to your poroject. \n",
    "gbq_dataset_id = 'Wedge'\n",
    "\n",
    "# And this should stay the same. \n",
    "private_key = service_path + service_file"
   ]
  },
  {
   "cell_type": "code",
   "execution_count": 3,
   "metadata": {},
   "outputs": [],
   "source": [
    "credentials = service_account.Credentials.from_service_account_file(service_path + service_file)"
   ]
  },
  {
   "cell_type": "code",
   "execution_count": 4,
   "metadata": {},
   "outputs": [],
   "source": [
    "client = bigquery.Client(credentials = credentials, project=gbq_proj_id)"
   ]
  },
  {
   "cell_type": "code",
   "execution_count": 5,
   "metadata": {},
   "outputs": [
    {
     "name": "stderr",
     "output_type": "stream",
     "text": [
      "Downloading: 100%|██████████| 27208/27208 [00:00<00:00, 35348.28rows/s]\n",
      "1it [00:03,  3.36s/it]\n"
     ]
    }
   ],
   "source": [
    "sql = \"\"\"\n",
    "SELECT DISTINCT card_no\n",
    "FROM `fleet-geode-327423.Wedge.transArchive_*` \n",
    "where NOT card_no = 3 \n",
    "\"\"\"\n",
    "owner_list = pandas_gbq.read_gbq(sql, project_id=gbq_proj_id)\n",
    "pandas_gbq.to_gbq(owner_list, 'Wedge.Owner_list', project_id=gbq_proj_id, if_exists='replace')"
   ]
  },
  {
   "cell_type": "code",
   "execution_count": 6,
   "metadata": {},
   "outputs": [
    {
     "data": {
      "text/plain": [
       "272.08"
      ]
     },
     "execution_count": 6,
     "metadata": {},
     "output_type": "execute_result"
    }
   ],
   "source": [
    "len(owner_list) * .01"
   ]
  },
  {
   "cell_type": "code",
   "execution_count": null,
   "metadata": {},
   "outputs": [],
   "source": []
  },
  {
   "cell_type": "code",
   "execution_count": 7,
   "metadata": {},
   "outputs": [
    {
     "name": "stderr",
     "output_type": "stream",
     "text": [
      "Downloading: 100%|██████████| 280/280 [00:00<00:00, 1215.45rows/s]\n",
      "1it [00:03,  3.03s/it]\n"
     ]
    }
   ],
   "source": [
    "sql = \"\"\"\n",
    "SELECT DISTINCT card_no\n",
    "FROM `fleet-geode-327423.Wedge.transArchive_*`\n",
    "where NOT card_no = 3 \n",
    "ORDER BY RAND()\n",
    "LIMIT 280\n",
    "\"\"\"\n",
    "Sample_owner_list = pandas_gbq.read_gbq(sql, project_id=gbq_proj_id)\n",
    "pandas_gbq.to_gbq(Sample_owner_list, 'Wedge.Sample_Owner_list', project_id=gbq_proj_id, if_exists='replace')"
   ]
  },
  {
   "cell_type": "code",
   "execution_count": 8,
   "metadata": {},
   "outputs": [
    {
     "name": "stderr",
     "output_type": "stream",
     "text": [
      "Downloading: 100%|██████████| 565072/565072 [03:31<00:00, 2672.23rows/s]\n",
      "1it [02:55, 175.68s/it]\n"
     ]
    }
   ],
   "source": [
    "sql = \"\"\"\n",
    "    SELECT *\n",
    "    FROM `fleet-geode-327423.Wedge.transArchive_*`\n",
    "    WHERE card_no IN\n",
    "    (SELECT card_no \n",
    "     FROM `fleet-geode-327423.Wedge.Sample_Owner_list`)\n",
    "\"\"\"\n",
    "All_data_sample_owners = pandas_gbq.read_gbq(sql, project_id=gbq_proj_id)\n",
    "pandas_gbq.to_gbq(All_data_sample_owners, 'Wedge.All_data_sample_owners', project_id=gbq_proj_id, if_exists='replace')"
   ]
  },
  {
   "cell_type": "markdown",
   "metadata": {},
   "source": [
    "Error is from trying to send it back to Google big query. Don't want to run it again because it takes so long. Still was able to create csv file"
   ]
  },
  {
   "cell_type": "code",
   "execution_count": 9,
   "metadata": {},
   "outputs": [],
   "source": [
    "All_data_sample_owners.to_csv('owners_sample.csv')"
   ]
  },
  {
   "cell_type": "code",
   "execution_count": null,
   "metadata": {},
   "outputs": [],
   "source": []
  },
  {
   "cell_type": "code",
   "execution_count": null,
   "metadata": {},
   "outputs": [],
   "source": []
  },
  {
   "cell_type": "code",
   "execution_count": null,
   "metadata": {},
   "outputs": [],
   "source": [
    "# Select * error\n",
    "sql = \"\"\"\n",
    "    \"SELECT * \"\n",
    "    \"FROM `fleet-geode-327423.Wedge.transArchive_*` \"\n",
    "    \"WHERE card_no IN (\n",
    "    SELECT card_no \n",
    "    FROM `fleet-geode-327423.Wedge.Sample_Owner_list`\n",
    "    )\n",
    "\"\"\"\n",
    "All_data_sample_owners = pandas_gbq.read_gbq(sql, project_id=gbq_proj_id)\n",
    "pandas_gbq.to_gbq(All_data_sample_owners, 'Wedge.All_data_sample_owners', project_id=gbq_proj_id, if_exists='replace')"
   ]
  },
  {
   "cell_type": "code",
   "execution_count": null,
   "metadata": {},
   "outputs": [],
   "source": [
    "table_ref = client.get_table('fleet-geode-327423.Wedge.All_data_sample_owners')\n",
    "\n",
    "job_config = bigquery.QueryJobConfig(destination=table_ref)\n",
    "\n",
    "sql = \"\"\"\n",
    "SELECT\n",
    "  *\n",
    "EXCEPT (tax,datetime)\n",
    "FROM\n",
    "  `fleet-geode-327423.Wedge.transArchive_*`\n",
    "WHERE\n",
    "  card_no IN (\n",
    "  SELECT\n",
    "    *\n",
    "  FROM\n",
    "    `fleet-geode-327423.Wedge.Sample_Owner_list`)\n",
    "\"\"\"\n",
    "\n",
    "\n",
    "\n",
    "query_job = client.query(sql, job_config=job_config)  # Make an API request.\n",
    "query_job.result()  # Wait for the job to complete.\n",
    "\n",
    "print(\"Query results loaded to the table {}\".format(table_ref.table_id))"
   ]
  },
  {
   "cell_type": "code",
   "execution_count": null,
   "metadata": {},
   "outputs": [],
   "source": []
  }
 ],
 "metadata": {
  "kernelspec": {
   "display_name": "Python 3",
   "language": "python",
   "name": "python3"
  },
  "language_info": {
   "codemirror_mode": {
    "name": "ipython",
    "version": 3
   },
   "file_extension": ".py",
   "mimetype": "text/x-python",
   "name": "python",
   "nbconvert_exporter": "python",
   "pygments_lexer": "ipython3",
   "version": "3.8.5"
  }
 },
 "nbformat": 4,
 "nbformat_minor": 4
}
